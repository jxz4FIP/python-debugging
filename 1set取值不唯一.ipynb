{
 "cells": [
  {
   "cell_type": "code",
   "execution_count": 1,
   "id": "3f219b0c-8efa-4515-ab12-39d75aa4b8a9",
   "metadata": {},
   "outputs": [],
   "source": [
    "import numpy as np\n",
    "import pandas as pd"
   ]
  },
  {
   "cell_type": "markdown",
   "id": "538bb327-9f31-4a96-8a53-4bf3bb16f847",
   "metadata": {},
   "source": [
    "# 一 问题重现"
   ]
  },
  {
   "cell_type": "code",
   "execution_count": 2,
   "id": "d6a64df6-2d4b-4bb8-a678-56a7bc9f2236",
   "metadata": {},
   "outputs": [
    {
     "data": {
      "text/html": [
       "<div>\n",
       "<style scoped>\n",
       "    .dataframe tbody tr th:only-of-type {\n",
       "        vertical-align: middle;\n",
       "    }\n",
       "\n",
       "    .dataframe tbody tr th {\n",
       "        vertical-align: top;\n",
       "    }\n",
       "\n",
       "    .dataframe thead th {\n",
       "        text-align: right;\n",
       "    }\n",
       "</style>\n",
       "<table border=\"1\" class=\"dataframe\">\n",
       "  <thead>\n",
       "    <tr style=\"text-align: right;\">\n",
       "      <th></th>\n",
       "      <th>index</th>\n",
       "      <th>name</th>\n",
       "      <th>chn</th>\n",
       "      <th>math</th>\n",
       "    </tr>\n",
       "  </thead>\n",
       "  <tbody>\n",
       "    <tr>\n",
       "      <th>0</th>\n",
       "      <td>1</td>\n",
       "      <td>Tom</td>\n",
       "      <td>32.1</td>\n",
       "      <td>NaN</td>\n",
       "    </tr>\n",
       "    <tr>\n",
       "      <th>1</th>\n",
       "      <td>2</td>\n",
       "      <td>Mary</td>\n",
       "      <td>65.0</td>\n",
       "      <td>NaN</td>\n",
       "    </tr>\n",
       "    <tr>\n",
       "      <th>2</th>\n",
       "      <td>3</td>\n",
       "      <td>Jane</td>\n",
       "      <td>89.0</td>\n",
       "      <td>48.0</td>\n",
       "    </tr>\n",
       "    <tr>\n",
       "      <th>3</th>\n",
       "      <td>4</td>\n",
       "      <td>Jim</td>\n",
       "      <td>63.0</td>\n",
       "      <td>NaN</td>\n",
       "    </tr>\n",
       "    <tr>\n",
       "      <th>4</th>\n",
       "      <td>5</td>\n",
       "      <td>Hem</td>\n",
       "      <td>89.0</td>\n",
       "      <td>43.0</td>\n",
       "    </tr>\n",
       "    <tr>\n",
       "      <th>5</th>\n",
       "      <td>6</td>\n",
       "      <td>Bob</td>\n",
       "      <td>89.0</td>\n",
       "      <td>43.0</td>\n",
       "    </tr>\n",
       "  </tbody>\n",
       "</table>\n",
       "</div>"
      ],
      "text/plain": [
       "   index  name   chn  math\n",
       "0      1   Tom  32.1   NaN\n",
       "1      2  Mary  65.0   NaN\n",
       "2      3  Jane  89.0  48.0\n",
       "3      4   Jim  63.0   NaN\n",
       "4      5   Hem  89.0  43.0\n",
       "5      6   Bob  89.0  43.0"
      ]
     },
     "execution_count": 2,
     "metadata": {},
     "output_type": "execute_result"
    }
   ],
   "source": [
    "df = pd.DataFrame([\n",
    "        [1, 'Tom', 32.1, np.nan],\n",
    "        [2, 'Mary', 65, np.nan],\n",
    "        [3, 'Jane', 89, 48],\n",
    "        [4, 'Jim', 63, np.nan],\n",
    "        [5, 'Hem', 89, 43],\n",
    "        [6, 'Bob', 89, 43],\n",
    "    ], columns=['index', 'name', 'chn', 'math'])\n",
    "df"
   ]
  },
  {
   "cell_type": "code",
   "execution_count": 3,
   "id": "ee9b0c16-9b40-416b-afa9-eae61bb45492",
   "metadata": {},
   "outputs": [
    {
     "data": {
      "text/plain": [
       "{32.1, 63.0, 65.0, 89.0}"
      ]
     },
     "execution_count": 3,
     "metadata": {},
     "output_type": "execute_result"
    }
   ],
   "source": [
    "set(df['chn'])"
   ]
  },
  {
   "cell_type": "code",
   "execution_count": 4,
   "id": "9f07e695-83f8-4bc5-adc8-eae6de58e0e1",
   "metadata": {},
   "outputs": [
    {
     "data": {
      "text/plain": [
       "{nan, nan, nan, 43.0, 48.0}"
      ]
     },
     "execution_count": 4,
     "metadata": {},
     "output_type": "execute_result"
    }
   ],
   "source": [
    "set(df['math'])"
   ]
  },
  {
   "cell_type": "code",
   "execution_count": 5,
   "id": "cb10e46e-bba1-44e1-8d56-eb0ff15a987e",
   "metadata": {},
   "outputs": [
    {
     "data": {
      "text/plain": [
       "array([nan, 48., 43.])"
      ]
     },
     "execution_count": 5,
     "metadata": {},
     "output_type": "execute_result"
    }
   ],
   "source": [
    "df['math'].unique()"
   ]
  },
  {
   "cell_type": "code",
   "execution_count": null,
   "id": "c7ef5a97-994e-45f4-862d-1061eb3a016e",
   "metadata": {},
   "outputs": [],
   "source": []
  },
  {
   "cell_type": "markdown",
   "id": "c83c777d-689b-40c5-abb5-144c66a749cb",
   "metadata": {},
   "source": [
    "# 二 问题定位"
   ]
  },
  {
   "cell_type": "markdown",
   "id": "7a4a608a-0dde-4c6d-a15e-dbc0932c9095",
   "metadata": {},
   "source": [
    "## 2.1 pd.Series改变了np.nan值"
   ]
  },
  {
   "cell_type": "code",
   "execution_count": 6,
   "id": "91191a41-377d-4bc5-8be0-b04887c60c89",
   "metadata": {},
   "outputs": [
    {
     "data": {
      "text/plain": [
       "(nan, nan, nan)"
      ]
     },
     "execution_count": 6,
     "metadata": {},
     "output_type": "execute_result"
    }
   ],
   "source": [
    "df.iloc[0, -1], df.iloc[1, -1], df.iloc[3, -1]"
   ]
  },
  {
   "cell_type": "code",
   "execution_count": 7,
   "id": "4a0b0652-800c-47f6-9e5e-40e8e371d1fd",
   "metadata": {},
   "outputs": [
    {
     "data": {
      "text/plain": [
       "(True, True, True)"
      ]
     },
     "execution_count": 7,
     "metadata": {},
     "output_type": "execute_result"
    }
   ],
   "source": [
    "np.isnan(df.iloc[0, -1]), np.isnan(df.iloc[1, -1]), np.isnan(df.iloc[3, -1])"
   ]
  },
  {
   "cell_type": "markdown",
   "id": "61bb9ccd-4102-4247-b934-40c69474c1cf",
   "metadata": {},
   "source": [
    "## 2.2 np.nan是个坏家伙"
   ]
  },
  {
   "cell_type": "code",
   "execution_count": 8,
   "id": "1c76ad64-3fdb-4a91-9cc6-76baafcb3143",
   "metadata": {},
   "outputs": [
    {
     "data": {
      "text/plain": [
       "False"
      ]
     },
     "execution_count": 8,
     "metadata": {},
     "output_type": "execute_result"
    }
   ],
   "source": [
    "np.nan == np.nan"
   ]
  },
  {
   "cell_type": "code",
   "execution_count": null,
   "id": "3277e557-dc2b-4436-968f-1a8dd015be24",
   "metadata": {},
   "outputs": [],
   "source": []
  },
  {
   "cell_type": "code",
   "execution_count": 9,
   "id": "d8761ec9-9c7d-416e-a19e-93c52d00b664",
   "metadata": {},
   "outputs": [
    {
     "name": "stdout",
     "output_type": "stream",
     "text": [
      "False\n",
      "False\n",
      "True\n"
     ]
    }
   ],
   "source": [
    "print(np.nan == 0)\n",
    "print(np.nan < 0)\n",
    "print(np.nan != 0)"
   ]
  },
  {
   "cell_type": "code",
   "execution_count": 10,
   "id": "30cc24f1-ffa2-46fa-be6c-9957f1a26df5",
   "metadata": {},
   "outputs": [],
   "source": [
    "# 扩展"
   ]
  },
  {
   "cell_type": "code",
   "execution_count": 11,
   "id": "e3236ade-306c-4008-bbc7-836c700ebc45",
   "metadata": {},
   "outputs": [
    {
     "name": "stdout",
     "output_type": "stream",
     "text": [
      "True\n",
      "True\n"
     ]
    }
   ],
   "source": [
    "print(np.nan is np.nan)\n",
    "print(np.isnan(np.nan))"
   ]
  },
  {
   "cell_type": "markdown",
   "id": "f808ce4f-1346-4553-b24c-a185693d110c",
   "metadata": {},
   "source": [
    "## 2.3 set计算错误"
   ]
  },
  {
   "cell_type": "code",
   "execution_count": 12,
   "id": "b619be16-a000-4de3-9448-1c3ee7781bbd",
   "metadata": {},
   "outputs": [
    {
     "data": {
      "text/plain": [
       "{nan}"
      ]
     },
     "execution_count": 12,
     "metadata": {},
     "output_type": "execute_result"
    }
   ],
   "source": [
    "set([np.nan, np.nan, np.nan])"
   ]
  },
  {
   "cell_type": "markdown",
   "id": "f8ec3e12-3317-47ab-8985-9544f73c54bf",
   "metadata": {},
   "source": [
    "## 2.4 问题是什么"
   ]
  },
  {
   "cell_type": "code",
   "execution_count": 13,
   "id": "56ab66d9-07ba-49a2-ac53-ae599ae700ed",
   "metadata": {},
   "outputs": [
    {
     "data": {
      "text/plain": [
       "{nan, nan, nan}"
      ]
     },
     "execution_count": 13,
     "metadata": {},
     "output_type": "execute_result"
    }
   ],
   "source": [
    "set(np.array([np.nan, np.nan, np.nan]))"
   ]
  },
  {
   "cell_type": "code",
   "execution_count": 14,
   "id": "8b3bc084-7404-4fcb-bf02-2e34251837d9",
   "metadata": {},
   "outputs": [
    {
     "data": {
      "text/plain": [
       "{nan, 1.0, 2.0, nan, nan}"
      ]
     },
     "execution_count": 14,
     "metadata": {},
     "output_type": "execute_result"
    }
   ],
   "source": [
    "set(np.array([1, 2, 1, np.nan, np.nan, np.nan]))"
   ]
  },
  {
   "cell_type": "code",
   "execution_count": 15,
   "id": "7a2d949d-5ee9-47bf-a31e-da14f6d4019d",
   "metadata": {},
   "outputs": [
    {
     "data": {
      "text/plain": [
       "False"
      ]
     },
     "execution_count": 15,
     "metadata": {},
     "output_type": "execute_result"
    }
   ],
   "source": [
    "np.array([np.nan, np.nan])[0] is np.nan"
   ]
  },
  {
   "cell_type": "code",
   "execution_count": 16,
   "id": "065332c6-001b-424c-993b-5ad9fc26eadb",
   "metadata": {},
   "outputs": [
    {
     "data": {
      "text/plain": [
       "float"
      ]
     },
     "execution_count": 16,
     "metadata": {},
     "output_type": "execute_result"
    }
   ],
   "source": [
    "type(np.nan)"
   ]
  },
  {
   "cell_type": "code",
   "execution_count": 17,
   "id": "3649d50b-ae72-41ae-a7d7-cdbcb02ced7e",
   "metadata": {},
   "outputs": [
    {
     "data": {
      "text/plain": [
       "numpy.float64"
      ]
     },
     "execution_count": 17,
     "metadata": {},
     "output_type": "execute_result"
    }
   ],
   "source": [
    "type(np.array([np.nan, np.nan])[0])"
   ]
  },
  {
   "cell_type": "code",
   "execution_count": 18,
   "id": "842f01dd-8345-4138-94cb-2b9d64896cc9",
   "metadata": {},
   "outputs": [
    {
     "data": {
      "text/plain": [
       "False"
      ]
     },
     "execution_count": 18,
     "metadata": {},
     "output_type": "execute_result"
    }
   ],
   "source": [
    "float(np.array([np.nan, np.nan])[0]) is np.nan"
   ]
  },
  {
   "cell_type": "code",
   "execution_count": null,
   "id": "b1760ae5-d2ad-42d5-947f-cfe43c983301",
   "metadata": {},
   "outputs": [],
   "source": []
  },
  {
   "cell_type": "markdown",
   "id": "d7bf5e4c-9c19-4057-9f46-4f217a029810",
   "metadata": {},
   "source": [
    "# 三 问题解析"
   ]
  },
  {
   "cell_type": "code",
   "execution_count": 19,
   "id": "5070e25e-f7ce-497d-bad4-b232f47cc75d",
   "metadata": {},
   "outputs": [
    {
     "data": {
      "text/plain": [
       "(True, numpy.float64, {1.0, 2.0, 5.0})"
      ]
     },
     "execution_count": 19,
     "metadata": {},
     "output_type": "execute_result"
    }
   ],
   "source": [
    "tmp_arr = np.array([1, 2.0, 5.0, 1.0])\n",
    "tmp_arr[1] == 2, type(tmp_arr[1]), set(tmp_arr)"
   ]
  },
  {
   "cell_type": "code",
   "execution_count": 20,
   "id": "e87a2466-bd18-462b-b3da-9ce76975f128",
   "metadata": {},
   "outputs": [
    {
     "data": {
      "text/plain": [
       "(False, numpy.str_, {'tell me about'})"
      ]
     },
     "execution_count": 20,
     "metadata": {},
     "output_type": "execute_result"
    }
   ],
   "source": [
    "tmp_arr = np.array([\"tell me about\", \"tell me about\", \"tell me about\"])\n",
    "tmp_arr[1] == 2, type(tmp_arr[1]), set(tmp_arr)"
   ]
  },
  {
   "cell_type": "code",
   "execution_count": null,
   "id": "60ad2955-4b77-4565-ac7a-7db127344582",
   "metadata": {},
   "outputs": [],
   "source": []
  },
  {
   "cell_type": "code",
   "execution_count": 21,
   "id": "2b33cfae-1dc8-4384-9aeb-8de75156823b",
   "metadata": {},
   "outputs": [
    {
     "data": {
      "text/plain": [
       "(94333536607360, 94333536607360, 139976147981616, 139976147981616)"
      ]
     },
     "execution_count": 21,
     "metadata": {},
     "output_type": "execute_result"
    }
   ],
   "source": [
    "a = 123\n",
    "a_in_arr = np.array([a, a])\n",
    "id(123), id(a), id(a_in_arr[0]), id(a_in_arr[1])"
   ]
  },
  {
   "cell_type": "code",
   "execution_count": 43,
   "id": "aad0eb98-2806-48c0-8bd5-6fb8c3130cda",
   "metadata": {},
   "outputs": [
    {
     "data": {
      "text/plain": [
       "(94333536607360, 139976742622960, 139976147784464, 139976147784464)"
      ]
     },
     "execution_count": 43,
     "metadata": {},
     "output_type": "execute_result"
    }
   ],
   "source": [
    "a = np.nan\n",
    "a_in_arr = np.array([a, a])\n",
    "id(123), id(a), id(a_in_arr[0]), id(a_in_arr[1])"
   ]
  },
  {
   "cell_type": "code",
   "execution_count": 25,
   "id": "307a5afc-aaf5-43f7-a9b4-471baf401225",
   "metadata": {},
   "outputs": [],
   "source": [
    "import math\n",
    "# 同理：math.nan"
   ]
  },
  {
   "cell_type": "code",
   "execution_count": 26,
   "id": "eb5414ea-0112-4453-9f7b-9eb7a095fcaf",
   "metadata": {},
   "outputs": [
    {
     "data": {
      "text/plain": [
       "(False, False)"
      ]
     },
     "execution_count": 26,
     "metadata": {},
     "output_type": "execute_result"
    }
   ],
   "source": [
    "# 提前说明：math.nan 和 np.nan不是一个东西\n",
    "math.nan == np.nan, math.nan is np.nan"
   ]
  },
  {
   "cell_type": "code",
   "execution_count": 27,
   "id": "35d550d4-5cd4-4a99-95be-aece1c37a3a1",
   "metadata": {},
   "outputs": [
    {
     "data": {
      "text/plain": [
       "({nan}, {nan, nan})"
      ]
     },
     "execution_count": 27,
     "metadata": {},
     "output_type": "execute_result"
    }
   ],
   "source": [
    "set([math.nan, math.nan]), set(np.array([math.nan, math.nan]))"
   ]
  },
  {
   "cell_type": "code",
   "execution_count": 28,
   "id": "a4fb85a4-62f9-46a0-9223-e0ea27919461",
   "metadata": {},
   "outputs": [
    {
     "data": {
      "text/plain": [
       "(139976807434256, 139976147981392)"
      ]
     },
     "execution_count": 28,
     "metadata": {},
     "output_type": "execute_result"
    }
   ],
   "source": [
    "id(math.nan), id(np.array([math.nan, math.nan])[0])"
   ]
  },
  {
   "cell_type": "code",
   "execution_count": 29,
   "id": "6701f085-ab20-4146-9b17-5e52475212ee",
   "metadata": {},
   "outputs": [],
   "source": [
    "#问题根源： is 要地址相等"
   ]
  },
  {
   "cell_type": "code",
   "execution_count": 30,
   "id": "b6536c5a-5057-4706-9d32-5e3cb2646fc2",
   "metadata": {},
   "outputs": [
    {
     "data": {
      "text/plain": [
       "(139976742622960, 139976147983248)"
      ]
     },
     "execution_count": 30,
     "metadata": {},
     "output_type": "execute_result"
    }
   ],
   "source": [
    "id(np.nan), id(np.array([np.nan])[0])"
   ]
  },
  {
   "cell_type": "code",
   "execution_count": null,
   "id": "9fb90f6e-22bb-45a9-9b66-7c6da12355cc",
   "metadata": {},
   "outputs": [],
   "source": []
  },
  {
   "cell_type": "code",
   "execution_count": 31,
   "id": "0c0045d8-5d1e-4724-8a67-f57fcb111faa",
   "metadata": {},
   "outputs": [],
   "source": [
    "# what's more"
   ]
  },
  {
   "cell_type": "code",
   "execution_count": 32,
   "id": "3e82d3aa-6cb9-4062-ab27-82f8b2148a93",
   "metadata": {},
   "outputs": [
    {
     "data": {
      "text/plain": [
       "(NoneType, {1, None})"
      ]
     },
     "execution_count": 32,
     "metadata": {},
     "output_type": "execute_result"
    }
   ],
   "source": [
    "tmp_arr = np.array([None, None, 1])\n",
    "type(tmp_arr[0]), set(tmp_arr)"
   ]
  },
  {
   "cell_type": "code",
   "execution_count": 33,
   "id": "3108018d-426b-475d-bf69-b46b7e127e0f",
   "metadata": {},
   "outputs": [
    {
     "data": {
      "text/plain": [
       "array([None, None, 1], dtype=object)"
      ]
     },
     "execution_count": 33,
     "metadata": {},
     "output_type": "execute_result"
    }
   ],
   "source": [
    "tmp_arr"
   ]
  },
  {
   "cell_type": "code",
   "execution_count": null,
   "id": "3d9b8242-0490-444c-8e09-9e07444a7a6a",
   "metadata": {},
   "outputs": [],
   "source": []
  },
  {
   "cell_type": "code",
   "execution_count": 34,
   "id": "1698cbf3-8f9c-457f-8bda-6b8c236ff56e",
   "metadata": {},
   "outputs": [
    {
     "data": {
      "text/plain": [
       "{3, None, nan}"
      ]
     },
     "execution_count": 34,
     "metadata": {},
     "output_type": "execute_result"
    }
   ],
   "source": [
    "set(np.array([np.nan, None, np.nan, 3]))"
   ]
  },
  {
   "cell_type": "code",
   "execution_count": null,
   "id": "e1dc261c-4984-4508-b39a-b46ba8d96682",
   "metadata": {},
   "outputs": [],
   "source": []
  }
 ],
 "metadata": {
  "kernelspec": {
   "display_name": "Python 3",
   "language": "python",
   "name": "python3"
  },
  "language_info": {
   "codemirror_mode": {
    "name": "ipython",
    "version": 3
   },
   "file_extension": ".py",
   "mimetype": "text/x-python",
   "name": "python",
   "nbconvert_exporter": "python",
   "pygments_lexer": "ipython3",
   "version": "3.8.8"
  }
 },
 "nbformat": 4,
 "nbformat_minor": 5
}
